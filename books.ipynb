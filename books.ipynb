{
 "cells": [
  {
   "cell_type": "code",
   "execution_count": null,
   "id": "739810c6",
   "metadata": {},
   "outputs": [],
   "source": [
    "\n",
    "from src.data.gutenberg.book_info import BookInfo\n",
    "from src.data.gutenberg.fetch import get_books, get_books_by_author\n",
    "from src.data.gutenberg.storage import save_books\n",
    "from pathlib import Path\n",
    "from src.config.configuration import GutenbergConfig\n",
    "from src.features.features import extract_features\n",
    "from src.features.features import build_feature_dataset, Features\n",
    "import pandas as pd\n",
    "from src.plots.plots import plot_author_feature_distributions, plot_clusters\n",
    "from src.models import cluster_data\n",
    "config = GutenbergConfig()\n"
   ]
  },
  {
   "cell_type": "markdown",
   "id": "40cbe3e0",
   "metadata": {},
   "source": [
    "# Manual Download"
   ]
  },
  {
   "cell_type": "code",
   "execution_count": null,
   "id": "f72fa88f",
   "metadata": {},
   "outputs": [],
   "source": [
    "authors = [\n",
    "    \"kipling_rudyard\",\n",
    "    \"christie_agatha\",\n",
    "    \"shelley_marywollstonecraft\",\n",
    "    \"austen_jane\",\n",
    "    \"doyle_arthurconan\",\n",
    "    #\"twain_mark\",\n",
    "    #\"london_jack\",\n",
    "    #\"wilde_osca\"\n",
    "]\n",
    "books = get_books_by_author(authors)\n",
    "data_set = df = build_feature_dataset(books, split_text=True, features=[Features.LEXICAL])"
   ]
  },
  {
   "cell_type": "markdown",
   "id": "022a9b75",
   "metadata": {},
   "source": [
    "# Stored Download"
   ]
  },
  {
   "cell_type": "code",
   "execution_count": null,
   "id": "0b861751",
   "metadata": {},
   "outputs": [],
   "source": [
    "data_set = df = build_feature_dataset(books, split_text=True, features=[Features.LEXICAL])"
   ]
  },
  {
   "cell_type": "code",
   "execution_count": null,
   "id": "201b7eae",
   "metadata": {},
   "outputs": [],
   "source": [
    "data_set = pd.read_csv(\"./data/data_sets/third.csv\")"
   ]
  },
  {
   "cell_type": "code",
   "execution_count": null,
   "id": "a2a1d6c2",
   "metadata": {},
   "outputs": [],
   "source": [
    "plot_author_feature_distributions(data_set)"
   ]
  },
  {
   "cell_type": "code",
   "execution_count": null,
   "id": "08f2a718",
   "metadata": {},
   "outputs": [],
   "source": [
    "clusters = cluster_data(data_set, n_clusters=10)\n",
    "plot_clusters(clusters)"
   ]
  },
  {
   "cell_type": "code",
   "execution_count": null,
   "id": "06f53023",
   "metadata": {},
   "outputs": [],
   "source": []
  }
 ],
 "metadata": {
  "kernelspec": {
   "display_name": ".venv",
   "language": "python",
   "name": "python3"
  },
  "language_info": {
   "codemirror_mode": {
    "name": "ipython",
    "version": 3
   },
   "file_extension": ".py",
   "mimetype": "text/x-python",
   "name": "python",
   "nbconvert_exporter": "python",
   "pygments_lexer": "ipython3",
   "version": "3.13.5"
  }
 },
 "nbformat": 4,
 "nbformat_minor": 5
}
